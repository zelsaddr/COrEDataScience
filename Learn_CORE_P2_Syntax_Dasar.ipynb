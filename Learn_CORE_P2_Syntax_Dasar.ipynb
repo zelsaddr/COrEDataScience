{
  "nbformat": 4,
  "nbformat_minor": 5,
  "metadata": {
    "kernelspec": {
      "display_name": "Python 3",
      "language": "python",
      "name": "python3"
    },
    "language_info": {
      "codemirror_mode": {
        "name": "ipython",
        "version": 3
      },
      "file_extension": ".py",
      "mimetype": "text/x-python",
      "name": "python",
      "nbconvert_exporter": "python",
      "pygments_lexer": "ipython3",
      "version": "3.8.0"
    },
    "colab": {
      "name": "Learn CORE P2 - Syntax Dasar.ipynb",
      "provenance": [],
      "collapsed_sections": [
        "Ih4Fu-EhQvfI",
        "upTnWhiJRF6c",
        "L2xUiefATCjP",
        "yrpF0OaWTmcu",
        "uenF4h6jUyKN",
        "_qXxTJUqU5LQ",
        "6Zr5IYA7VuvW",
        "r_KCVHIVWSvS",
        "tCQqcJ1rXBHR",
        "BPFc7sYpc1BH",
        "scfa6mlAd5BT",
        "bGX4dQY2A3la",
        "fnuMWJOcBs7x",
        "jA6hqdCECafN"
      ]
    }
  },
  "cells": [
    {
      "cell_type": "markdown",
      "metadata": {
        "id": "350c563d"
      },
      "source": [
        "# Tutorial Dasar Python 3.x"
      ],
      "id": "350c563d"
    },
    {
      "cell_type": "markdown",
      "metadata": {
        "id": "c47da6bf"
      },
      "source": [
        "Python adalah bahasa pemrograman interpretatif yang dapat digunakan di berbagai platform dengan filosofi perancangan yang berfokus pada tingkat keterbacaan kode dan merupakan salah satu bahasa populer yang berkaitan dengan Data Science, Machine Learning, dan Internet of Things (IoT). Keunggulan Python yang bersifat interpretatif juga banyak digunakan untuk prototyping, scripting dalam pengelolaan infrastruktur, hingga pembuatan website berskala besar."
      ],
      "id": "c47da6bf"
    },
    {
      "cell_type": "markdown",
      "metadata": {
        "id": "Ih4Fu-EhQvfI"
      },
      "source": [
        "### Dasar Mengenai Tipe Data"
      ],
      "id": "Ih4Fu-EhQvfI"
    },
    {
      "cell_type": "markdown",
      "metadata": {
        "id": "upTnWhiJRF6c"
      },
      "source": [
        "#### Numbers"
      ],
      "id": "upTnWhiJRF6c"
    },
    {
      "cell_type": "markdown",
      "metadata": {
        "id": "enKRqz_kRYt1"
      },
      "source": [
        "Bilangan bulat dan float berfungsi seperti yang Anda harapkan dari bahasa pemrograman lain:"
      ],
      "id": "enKRqz_kRYt1"
    },
    {
      "cell_type": "code",
      "source": [
        "a = 1; c = 2\n",
        "print(a, c)"
      ],
      "metadata": {
        "colab": {
          "base_uri": "https://localhost:8080/"
        },
        "id": "qd9a9VF7jiBP",
        "outputId": "99052399-7bac-48cb-f17b-54c37afb6210"
      },
      "id": "qd9a9VF7jiBP",
      "execution_count": null,
      "outputs": [
        {
          "output_type": "stream",
          "name": "stdout",
          "text": [
            "1 2\n"
          ]
        }
      ]
    },
    {
      "cell_type": "code",
      "metadata": {
        "colab": {
          "base_uri": "https://localhost:8080/"
        },
        "id": "4e904625",
        "outputId": "b2151a19-e5fe-4a90-b864-6a38780228f0"
      },
      "source": [
        "x = 3\n",
        "print(x, type(x))"
      ],
      "id": "4e904625",
      "execution_count": null,
      "outputs": [
        {
          "output_type": "stream",
          "name": "stdout",
          "text": [
            "3 <class 'int'>\n"
          ]
        }
      ]
    },
    {
      "cell_type": "code",
      "metadata": {
        "colab": {
          "base_uri": "https://localhost:8080/"
        },
        "id": "1Z03ZiPIRtqv",
        "outputId": "6998d6db-73a7-400c-c7aa-28e4edfea2d5"
      },
      "source": [
        "print(x + 1)   # Addition\n",
        "print(x - 1)   # Subtraction\n",
        "print(x * 2)   # Multiplication\n",
        "print(x ** 2)  # Exponentiation"
      ],
      "id": "1Z03ZiPIRtqv",
      "execution_count": null,
      "outputs": [
        {
          "output_type": "stream",
          "name": "stdout",
          "text": [
            "4\n",
            "2\n",
            "6\n",
            "9\n"
          ]
        }
      ]
    },
    {
      "cell_type": "code",
      "metadata": {
        "colab": {
          "base_uri": "https://localhost:8080/"
        },
        "id": "dt4JHvnERw3u",
        "outputId": "1a2ef114-0c0f-4c8e-8776-dc0e66ce20a3"
      },
      "source": [
        "x += 1\n",
        "print(x)\n",
        "x *= 2\n",
        "print(x)"
      ],
      "id": "dt4JHvnERw3u",
      "execution_count": null,
      "outputs": [
        {
          "output_type": "stream",
          "name": "stdout",
          "text": [
            "4\n",
            "8\n"
          ]
        }
      ]
    },
    {
      "cell_type": "code",
      "metadata": {
        "colab": {
          "base_uri": "https://localhost:8080/"
        },
        "id": "uw62nT7bRzHx",
        "outputId": "7e7d90a3-64d9-41d0-aeeb-d0df6da20bc0"
      },
      "source": [
        "y = 2.5\n",
        "print(type(y))\n",
        "print(y, y + 1, y * 2, y ** 2)"
      ],
      "id": "uw62nT7bRzHx",
      "execution_count": null,
      "outputs": [
        {
          "output_type": "stream",
          "name": "stdout",
          "text": [
            "<class 'float'>\n",
            "2.5 3.5 5.0 6.25\n"
          ]
        }
      ]
    },
    {
      "cell_type": "markdown",
      "metadata": {
        "id": "1CdMKnlzSUUX"
      },
      "source": [
        "Note : Perhatikan bahwa tidak seperti banyak bahasa, Python tidak memiliki operator unary increment (x++) atau decrement (x--). <br>\n",
        "Python juga memiliki tipe bawaan untuk bilangan bulat panjang dan bilangan kompleks; Anda dapat menemukan semua detailnya di [dokumentasi](https://docs.python.org/3.7/library/stdtypes.html#numeric-types-int-float-long-complex)."
      ],
      "id": "1CdMKnlzSUUX"
    },
    {
      "cell_type": "markdown",
      "metadata": {
        "id": "L2xUiefATCjP"
      },
      "source": [
        "#### Booleans"
      ],
      "id": "L2xUiefATCjP"
    },
    {
      "cell_type": "markdown",
      "metadata": {
        "id": "LZf2-03TTGN8"
      },
      "source": [
        "Python mengimplementasikan semua operator biasa untuk logika Boolean, tetapi menggunakan kata-kata bahasa Inggris daripada simbol (`&&`, `||`, dll.):"
      ],
      "id": "LZf2-03TTGN8"
    },
    {
      "cell_type": "code",
      "metadata": {
        "id": "6rNjqRKBTD8K"
      },
      "source": [
        "t, f = True, False\n",
        "print(type(t))"
      ],
      "id": "6rNjqRKBTD8K",
      "execution_count": null,
      "outputs": []
    },
    {
      "cell_type": "markdown",
      "metadata": {
        "id": "CnF2YSiITH6-"
      },
      "source": [
        "Coba lihat operasi dibawah"
      ],
      "id": "CnF2YSiITH6-"
    },
    {
      "cell_type": "code",
      "metadata": {
        "id": "cYnMAKY8TIT-"
      },
      "source": [
        "print(t and f) # Logical AND;\n",
        "print(t or f)  # Logical OR;\n",
        "print(not t)   # Logical NOT;\n",
        "print(t != f)  # Logical XOR;"
      ],
      "id": "cYnMAKY8TIT-",
      "execution_count": null,
      "outputs": []
    },
    {
      "cell_type": "markdown",
      "metadata": {
        "id": "yrpF0OaWTmcu"
      },
      "source": [
        "#### Strings"
      ],
      "id": "yrpF0OaWTmcu"
    },
    {
      "cell_type": "code",
      "metadata": {
        "id": "Hqc4iuSvTn6w"
      },
      "source": [
        "hello = 'hello'   # String literals can use single quotes\n",
        "world = \"world\"   # or double quotes; it does not matter\n",
        "print(hello, len(hello))"
      ],
      "id": "Hqc4iuSvTn6w",
      "execution_count": null,
      "outputs": []
    },
    {
      "cell_type": "code",
      "metadata": {
        "id": "gBK9PtzCT_Pi"
      },
      "source": [
        "hw = hello + ' ' + world  # String concatenation\n",
        "print(hw)"
      ],
      "id": "gBK9PtzCT_Pi",
      "execution_count": null,
      "outputs": []
    },
    {
      "cell_type": "code",
      "metadata": {
        "id": "wG8YF6GSUANd"
      },
      "source": [
        "hw12 = '{} {} {}'.format(hello, world, 12)  # string formatting\n",
        "print(hw12)"
      ],
      "id": "wG8YF6GSUANd",
      "execution_count": null,
      "outputs": []
    },
    {
      "cell_type": "code",
      "metadata": {
        "id": "n_S9XvM4UDlZ"
      },
      "source": [
        "s = \"hello\"\n",
        "print(s.capitalize())  # Capitalize a string\n",
        "print(s.upper())       # Convert a string to uppercase; prints \"HELLO\"\n",
        "print(s.rjust(7))      # Right-justify a string, padding with spaces\n",
        "print(s.center(7))     # Center a string, padding with spaces\n",
        "print(s.replace('l', '(ell)'))  # Replace all instances of one substring with another\n",
        "print('  world '.strip())  # Strip leading and trailing whitespace"
      ],
      "id": "n_S9XvM4UDlZ",
      "execution_count": null,
      "outputs": []
    },
    {
      "cell_type": "markdown",
      "metadata": {
        "id": "7N8CdqKFUIod"
      },
      "source": [
        "Kalian bisa nemuin semua metode untuk persoalan string di [documentation](https://docs.python.org/3.7/library/stdtypes.html#string-methods)."
      ],
      "id": "7N8CdqKFUIod"
    },
    {
      "cell_type": "markdown",
      "metadata": {
        "id": "uenF4h6jUyKN"
      },
      "source": [
        "### Containers"
      ],
      "id": "uenF4h6jUyKN"
    },
    {
      "cell_type": "markdown",
      "metadata": {
        "id": "_qXxTJUqU5LQ"
      },
      "source": [
        "#### Lists"
      ],
      "id": "_qXxTJUqU5LQ"
    },
    {
      "cell_type": "markdown",
      "metadata": {
        "id": "k9A3L3J7U8Ly"
      },
      "source": [
        "List sama dengan array, namun dalam list tidak bisa membuat key dan value. Selain itu bisa berupa tipe data yang berbeda"
      ],
      "id": "k9A3L3J7U8Ly"
    },
    {
      "cell_type": "code",
      "metadata": {
        "colab": {
          "base_uri": "https://localhost:8080/"
        },
        "id": "WiHKmj7mU3MF",
        "outputId": "04c19960-52a5-48b3-e5c6-c957e16c31af"
      },
      "source": [
        "xs = [3, 1, 2]   # Create a list\n",
        "print(xs, xs[2])\n",
        "print(xs[-1])     # Negative indices count from the end of the list; prints \"2\""
      ],
      "id": "WiHKmj7mU3MF",
      "execution_count": null,
      "outputs": [
        {
          "output_type": "stream",
          "name": "stdout",
          "text": [
            "[3, 1, 2] 2\n",
            "2\n"
          ]
        }
      ]
    },
    {
      "cell_type": "code",
      "metadata": {
        "id": "lKCSz3EtVY0x",
        "colab": {
          "base_uri": "https://localhost:8080/"
        },
        "outputId": "74754308-f0c4-41b8-9e4d-eb987bc38595"
      },
      "source": [
        "xs[2] = 'foo'    # Lists can contain elements of different types\n",
        "print(xs)"
      ],
      "id": "lKCSz3EtVY0x",
      "execution_count": null,
      "outputs": [
        {
          "output_type": "stream",
          "name": "stdout",
          "text": [
            "[3, 1, 'foo']\n"
          ]
        }
      ]
    },
    {
      "cell_type": "code",
      "metadata": {
        "id": "FeoeLNZWVfh6",
        "colab": {
          "base_uri": "https://localhost:8080/"
        },
        "outputId": "7d898efa-f2e0-4f5c-ae4f-87ce92138e5a"
      },
      "source": [
        "xs.append('bar') # Add a new element to the end of the list\n",
        "print(xs)  "
      ],
      "id": "FeoeLNZWVfh6",
      "execution_count": null,
      "outputs": [
        {
          "output_type": "stream",
          "name": "stdout",
          "text": [
            "[3, 1, 2, 'bar']\n"
          ]
        }
      ]
    },
    {
      "cell_type": "code",
      "metadata": {
        "id": "pCXnjInaVhfM",
        "colab": {
          "base_uri": "https://localhost:8080/"
        },
        "outputId": "d2c84d75-bb89-4dfb-cbfb-0c33d9ad2c4c"
      },
      "source": [
        "x = xs.pop()     # Remove and return the last element of the list\n",
        "print(x, xs)"
      ],
      "id": "pCXnjInaVhfM",
      "execution_count": null,
      "outputs": [
        {
          "output_type": "stream",
          "name": "stdout",
          "text": [
            "bar [3, 1, 2]\n"
          ]
        }
      ]
    },
    {
      "cell_type": "markdown",
      "metadata": {
        "id": "9YCKFyV6VmjD"
      },
      "source": [
        "Dokumentasi : [Buka](https://docs.python.org/3.7/tutorial/datastructures.html#more-on-lists)"
      ],
      "id": "9YCKFyV6VmjD"
    },
    {
      "cell_type": "markdown",
      "metadata": {
        "id": "6Zr5IYA7VuvW"
      },
      "source": [
        "#### Slicing"
      ],
      "id": "6Zr5IYA7VuvW"
    },
    {
      "cell_type": "markdown",
      "metadata": {
        "id": "T3ba8J1BVyy2"
      },
      "source": [
        "Slicing merupakan teknik jalan pintas memilih data dari sebuah set data. Misal kita memiliki data berat badan mahasiswa: 65, 78, 77, 100, 56. Maka jika kita urutkan maka urutan pertama adalah 65, urutan kedua adalah 78, urutan ketiga adalah 77, urutan keempat adalah 100, dan urutan terakhir adala 56."
      ],
      "id": "T3ba8J1BVyy2"
    },
    {
      "cell_type": "code",
      "metadata": {
        "id": "JHbAt92zVyFQ",
        "colab": {
          "base_uri": "https://localhost:8080/"
        },
        "outputId": "fd756cde-9502-4425-9a61-cece2e79889d"
      },
      "source": [
        "nums = list(range(5))    # range is a built-in function that creates a list of integers\n",
        "print(nums)         #| Prints \"[0, 1, 2, 3, 4]\"\n",
        "print(nums[2:4])    # Get a slice from index 2 to 4 (exclusive); prints \"[2, 3]\"\n",
        "print(nums[2:])     # Get a slice from index 2 to the end; prints \"[2, 3, 4]\"\n",
        "print(nums[:2])     # Get a slice from the start to index 2 (exclusive); prints \"[0, 1]\"\n",
        "print(nums[:])      # Get a slice of the whole list; prints [\"0, 1, 2, 3, 4]\"\n",
        "print(nums[:-1])    # Slice indices can be negative; prints [\"0, 1, 2, 3]\"\n",
        "nums[2:4] = [8, [9] # Assign a new sublist to a slice\n",
        "print(nums)         # Prints \"[0, 1, 8, 9, 4]\""
      ],
      "id": "JHbAt92zVyFQ",
      "execution_count": null,
      "outputs": [
        {
          "output_type": "stream",
          "name": "stdout",
          "text": [
            "[0, 1, 2, 3, 4]\n",
            "[2, 3]\n",
            "[2, 3, 4]\n",
            "[0, 1]\n",
            "[0, 1, 2, 3, 4]\n",
            "[0, 1, 2, 3]\n",
            "[0, 1, 8, 9, 4]\n"
          ]
        }
      ]
    },
    {
      "cell_type": "markdown",
      "metadata": {
        "id": "r_KCVHIVWSvS"
      },
      "source": [
        "#### Loops"
      ],
      "id": "r_KCVHIVWSvS"
    },
    {
      "cell_type": "markdown",
      "metadata": {
        "id": "WRGlGfNKWc4Z"
      },
      "source": [
        "Kita bisa loop atau buat perulangan dari elements dari sebuah list, seperti ini :"
      ],
      "id": "WRGlGfNKWc4Z"
    },
    {
      "cell_type": "code",
      "metadata": {
        "id": "6kK5SzzQWcXr"
      },
      "source": [
        "animals = ['cat', 'dog', 'monkey']\n",
        "for animal in animals:\n",
        "    print(animal)"
      ],
      "id": "6kK5SzzQWcXr",
      "execution_count": null,
      "outputs": []
    },
    {
      "cell_type": "markdown",
      "metadata": {
        "id": "xz1NumKMWlqV"
      },
      "source": [
        "Jika kita ingin mengakses indeks setiap elemen di dalam tubuh loop, gunakan fungsi enumerate bawaan:"
      ],
      "id": "xz1NumKMWlqV"
    },
    {
      "cell_type": "code",
      "metadata": {
        "id": "0NAvpX7jW1x3"
      },
      "source": [
        "animals = ['cat', 'dog', 'monkey']\n",
        "for idx, animal in enumerate(animals):\n",
        "    print('#{}: {}'.format(idx + 1, animal))"
      ],
      "id": "0NAvpX7jW1x3",
      "execution_count": null,
      "outputs": []
    },
    {
      "cell_type": "markdown",
      "metadata": {
        "id": "tCQqcJ1rXBHR"
      },
      "source": [
        "#### Looping List (Lanjutan)"
      ],
      "id": "tCQqcJ1rXBHR"
    },
    {
      "cell_type": "markdown",
      "metadata": {
        "id": "7GwLSglsXLcN"
      },
      "source": [
        "Saat memprogram, seringkali kita ingin mengubah satu jenis data menjadi data lain. Sebagai contoh sederhana, perhatikan kode berikut yang menghitung bilangan kuadrat:"
      ],
      "id": "7GwLSglsXLcN"
    },
    {
      "cell_type": "code",
      "metadata": {
        "id": "wDSWEDnkXIz1"
      },
      "source": [
        "nums = [0, 1, 2, 3, 4]\n",
        "squares = []\n",
        "for x in nums:\n",
        "    squares.append(x ** 2)\n",
        "print(squares)"
      ],
      "id": "wDSWEDnkXIz1",
      "execution_count": null,
      "outputs": []
    },
    {
      "cell_type": "markdown",
      "metadata": {
        "id": "nrOB23XlXO7O"
      },
      "source": [
        "Kita juga bisa buat kode diatas jadi lebih simple"
      ],
      "id": "nrOB23XlXO7O"
    },
    {
      "cell_type": "code",
      "metadata": {
        "id": "ciF3TOGDXali"
      },
      "source": [
        "nums = [0, 1, 2, 3, 4]\n",
        "squares = [x ** 2 for x in nums]\n",
        "print(squares)"
      ],
      "id": "ciF3TOGDXali",
      "execution_count": null,
      "outputs": []
    },
    {
      "cell_type": "markdown",
      "metadata": {
        "id": "fJIj0ZfeXfcX"
      },
      "source": [
        "didalam penggunaan looping untuk list, kita juga bisa menambahkan kondisi"
      ],
      "id": "fJIj0ZfeXfcX"
    },
    {
      "cell_type": "code",
      "metadata": {
        "id": "SBbDh8PzXp0B"
      },
      "source": [
        "nums = [0, 1, 2, 3, 4]\n",
        "even_squares = [x ** 2 for x in nums if x % 2 == 0]\n",
        "print(even_squares)"
      ],
      "id": "SBbDh8PzXp0B",
      "execution_count": null,
      "outputs": []
    }
  ]
}